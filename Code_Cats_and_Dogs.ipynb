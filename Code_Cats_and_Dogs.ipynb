{
  "nbformat": 4,
  "nbformat_minor": 0,
  "metadata": {
    "colab": {
      "name": "Code_Cats and Dogs.ipynb",
      "provenance": [],
      "include_colab_link": true
    },
    "kernelspec": {
      "name": "python3",
      "display_name": "Python 3"
    },
    "accelerator": "TPU"
  },
  "cells": [
    {
      "cell_type": "markdown",
      "metadata": {
        "id": "view-in-github",
        "colab_type": "text"
      },
      "source": [
        "<a href=\"https://colab.research.google.com/github/Jheel-patel/Deep-Learning-Cats-Dogs/blob/master/Code_Cats_and_Dogs.ipynb\" target=\"_parent\"><img src=\"https://colab.research.google.com/assets/colab-badge.svg\" alt=\"Open In Colab\"/></a>"
      ]
    },
    {
      "cell_type": "markdown",
      "metadata": {
        "id": "p95WZ9BffZQK",
        "colab_type": "text"
      },
      "source": [
        "#Connect to google drive"
      ]
    },
    {
      "cell_type": "code",
      "metadata": {
        "id": "A_TbA1Sie7LP",
        "colab_type": "code",
        "outputId": "081a9b44-7c1b-45d3-ab56-17a870832601",
        "colab": {
          "base_uri": "https://localhost:8080/",
          "height": 121
        }
      },
      "source": [
        "from google.colab import drive\n",
        "drive.mount('/content/drive')"
      ],
      "execution_count": 1,
      "outputs": [
        {
          "output_type": "stream",
          "text": [
            "Go to this URL in a browser: https://accounts.google.com/o/oauth2/auth?client_id=947318989803-6bn6qk8qdgf4n4g3pfee6491hc0brc4i.apps.googleusercontent.com&redirect_uri=urn%3aietf%3awg%3aoauth%3a2.0%3aoob&response_type=code&scope=email%20https%3a%2f%2fwww.googleapis.com%2fauth%2fdocs.test%20https%3a%2f%2fwww.googleapis.com%2fauth%2fdrive%20https%3a%2f%2fwww.googleapis.com%2fauth%2fdrive.photos.readonly%20https%3a%2f%2fwww.googleapis.com%2fauth%2fpeopleapi.readonly\n",
            "\n",
            "Enter your authorization code:\n",
            "··········\n",
            "Mounted at /content/drive\n"
          ],
          "name": "stdout"
        }
      ]
    },
    {
      "cell_type": "markdown",
      "metadata": {
        "id": "JjWjgg-Xfc9y",
        "colab_type": "text"
      },
      "source": [
        "#Copy data to local drive"
      ]
    },
    {
      "cell_type": "code",
      "metadata": {
        "id": "MHECNzqMfGVv",
        "colab_type": "code",
        "colab": {}
      },
      "source": [
        "import os, shutil\n",
        "\n",
        "!mkdir 'data'\n",
        "!mkdir 'data/training_set'\n",
        "!mkdir 'data/validation_set'\n",
        "!mkdir 'data/training_set/cats' \n",
        "!mkdir 'data/training_set/dogs' \n",
        "!mkdir 'data/validation_set/cats' \n",
        "!mkdir 'data/validation_set/dogs'\n",
        "\n",
        "\n",
        "source_data_dir = '/content/drive/My Drive/3.Projects/Cats and Dogs/train'\n",
        "\n",
        "#if os.listdir('data/training_set/cats')==[]:\n",
        "for file in ['cat.{}.jpg'.format(i) for i in range(2000)]:\n",
        "        shutil.copyfile(os.path.join(source_data_dir,file),os.path.join(\"data/training_set/cats\",file))"
      ],
      "execution_count": 0,
      "outputs": []
    },
    {
      "cell_type": "code",
      "metadata": {
        "id": "HBNlS4NvmUUV",
        "colab_type": "code",
        "colab": {}
      },
      "source": [
        "for file in ['dog.{}.jpg'.format(i) for i in range(2000)]:\n",
        "        shutil.copyfile(os.path.join(source_data_dir,file),os.path.join(\"data/training_set/dogs\",file))"
      ],
      "execution_count": 0,
      "outputs": []
    },
    {
      "cell_type": "code",
      "metadata": {
        "id": "4rsritX5mUHF",
        "colab_type": "code",
        "colab": {}
      },
      "source": [
        "for file in ['cat.{}.jpg'.format(i) for i in range(2000,2500)]:\n",
        "        shutil.copyfile(os.path.join(source_data_dir,file),os.path.join(\"data/validation_set/cats\",file))"
      ],
      "execution_count": 0,
      "outputs": []
    },
    {
      "cell_type": "code",
      "metadata": {
        "id": "T-zYyj8imT4y",
        "colab_type": "code",
        "colab": {}
      },
      "source": [
        "for file in ['dog.{}.jpg'.format(i) for i in range(2000,2500)]:\n",
        "        shutil.copyfile(os.path.join(source_data_dir,file),os.path.join(\"data/validation_set/dogs\",file))"
      ],
      "execution_count": 0,
      "outputs": []
    },
    {
      "cell_type": "markdown",
      "metadata": {
        "id": "tWqJKxlQf4Ni",
        "colab_type": "text"
      },
      "source": [
        "#Count number of images"
      ]
    },
    {
      "cell_type": "code",
      "metadata": {
        "id": "x2RSOiLIf80K",
        "colab_type": "code",
        "colab": {
          "base_uri": "https://localhost:8080/",
          "height": 34
        },
        "outputId": "6fe9da18-b78e-4cd9-dc45-ed9062ed6d9a"
      },
      "source": [
        "\n",
        "path, dirs, train_cat_files = next(os.walk(\"data/training_set/cats\"))\n",
        "path, dirs, train_dog_files = next(os.walk(\"data/training_set/dogs\"))\n",
        "path, dirs, val_cat_files = next(os.walk(\"data/validation_set/cats\"))\n",
        "path, dirs, val_dog_files = next(os.walk(\"data/validation_set/dogs\"))\n",
        "\n",
        "num_cats_tr = len(train_cat_files)\n",
        "num_dogs_tr = len(train_dog_files)\n",
        "\n",
        "num_cats_val = len(val_cat_files)\n",
        "num_dogs_val = len(val_dog_files)\n",
        "\n",
        "total_train = num_cats_tr + num_dogs_tr\n",
        "total_val = num_cats_val + num_dogs_val\n",
        "total_train , total_val"
      ],
      "execution_count": 6,
      "outputs": [
        {
          "output_type": "execute_result",
          "data": {
            "text/plain": [
              "(4000, 1000)"
            ]
          },
          "metadata": {
            "tags": []
          },
          "execution_count": 6
        }
      ]
    },
    {
      "cell_type": "markdown",
      "metadata": {
        "id": "IB8n1OFyf_8K",
        "colab_type": "text"
      },
      "source": [
        "#Import Library"
      ]
    },
    {
      "cell_type": "code",
      "metadata": {
        "id": "TPWfM_27gBXk",
        "colab_type": "code",
        "colab": {}
      },
      "source": [
        "import numpy as np\n",
        "import pandas as pd\n",
        "import cv2\n",
        "import matplotlib.pyplot as plt\n",
        "\n",
        "%tensorflow_version 2.x\n",
        "import tensorflow as tf\n",
        "\n",
        "from tensorflow.keras.layers import Conv2D,MaxPooling2D,Flatten,Dense\n",
        "\n",
        "from tensorflow.keras.preprocessing.image import ImageDataGenerator"
      ],
      "execution_count": 0,
      "outputs": []
    },
    {
      "cell_type": "markdown",
      "metadata": {
        "id": "e3d26jhYgQU2",
        "colab_type": "text"
      },
      "source": [
        "#Data Preprocessing"
      ]
    },
    {
      "cell_type": "code",
      "metadata": {
        "id": "mDVAp1B7gSga",
        "colab_type": "code",
        "colab": {
          "base_uri": "https://localhost:8080/",
          "height": 50
        },
        "outputId": "fbecd608-7744-4d1a-a0fe-019f9dffa555"
      },
      "source": [
        "IMG_SHAPE=150\n",
        "BATCH_SIZE=40\n",
        "\n",
        "\n",
        "train_dir='data/training_set'\n",
        "validation_dir ='data/validation_set'\n",
        "#Augmented Image\n",
        "\n",
        "image_gen_train = ImageDataGenerator(\n",
        "      rescale=1./255,\n",
        "      rotation_range=40,\n",
        "      width_shift_range=0.2,\n",
        "      height_shift_range=0.2,\n",
        "      shear_range=0.2,\n",
        "      zoom_range=0.2,\n",
        "      horizontal_flip=True,\n",
        "      fill_mode='nearest')\n",
        "\n",
        "train_data_gen = image_gen_train.flow_from_directory(batch_size=BATCH_SIZE,\n",
        "                                                     directory=train_dir,\n",
        "                                                     shuffle=True,\n",
        "                                                     target_size=(IMG_SHAPE,IMG_SHAPE),\n",
        "                                                     class_mode='binary')\n",
        "\n",
        "image_gen_val = ImageDataGenerator(rescale=1./255)\n",
        "\n",
        "val_data_gen = image_gen_val.flow_from_directory(batch_size=BATCH_SIZE,\n",
        "                                                 directory=validation_dir,\n",
        "                                                 target_size=(IMG_SHAPE, IMG_SHAPE),\n",
        "                                                 class_mode='binary')"
      ],
      "execution_count": 12,
      "outputs": [
        {
          "output_type": "stream",
          "text": [
            "Found 4000 images belonging to 2 classes.\n",
            "Found 1000 images belonging to 2 classes.\n"
          ],
          "name": "stdout"
        }
      ]
    },
    {
      "cell_type": "markdown",
      "metadata": {
        "id": "7kYsRu06h91a",
        "colab_type": "text"
      },
      "source": [
        "#Create and train model"
      ]
    },
    {
      "cell_type": "code",
      "metadata": {
        "id": "_sHn5amDh9Vq",
        "colab_type": "code",
        "colab": {
          "base_uri": "https://localhost:8080/",
          "height": 1000
        },
        "outputId": "3ff447fb-95c8-4d07-e3f7-510ba3a63e3f"
      },
      "source": [
        "model = tf.keras.models.Sequential([\n",
        "    tf.keras.layers.Conv2D(32, (3,3), activation='relu', input_shape=(150, 150, 3)),\n",
        "    tf.keras.layers.MaxPooling2D(2, 2),\n",
        "\n",
        "    tf.keras.layers.Conv2D(64, (3,3), activation='relu'),\n",
        "    tf.keras.layers.MaxPooling2D(2,2),\n",
        "\n",
        "    tf.keras.layers.Conv2D(128, (3,3), activation='relu'),\n",
        "    tf.keras.layers.MaxPooling2D(2,2),\n",
        "\n",
        "    tf.keras.layers.Conv2D(128, (3,3), activation='relu'),\n",
        "    tf.keras.layers.MaxPooling2D(2,2),\n",
        "\n",
        "    tf.keras.layers.Dropout(0.5),\n",
        "    tf.keras.layers.Flatten(),\n",
        "    tf.keras.layers.Dense(512, activation='relu'),\n",
        "    tf.keras.layers.Dense(2, activation='softmax')\n",
        "])\n",
        "\n",
        "model.compile(optimizer='adam',\n",
        "              loss='sparse_categorical_crossentropy',\n",
        "              metrics=['accuracy'])\n",
        "\n",
        "model.summary()\n",
        "\n",
        "\n",
        "epochs=100\n",
        "history = model.fit_generator(\n",
        "    train_data_gen,\n",
        "    steps_per_epoch=int(np.ceil(total_train / float(BATCH_SIZE))),\n",
        "    epochs=epochs,\n",
        "    validation_data=val_data_gen,\n",
        "    validation_steps=int(np.ceil(total_val / float(BATCH_SIZE)))\n",
        ")"
      ],
      "execution_count": 13,
      "outputs": [
        {
          "output_type": "stream",
          "text": [
            "Model: \"sequential\"\n",
            "_________________________________________________________________\n",
            "Layer (type)                 Output Shape              Param #   \n",
            "=================================================================\n",
            "conv2d (Conv2D)              (None, 148, 148, 32)      896       \n",
            "_________________________________________________________________\n",
            "max_pooling2d (MaxPooling2D) (None, 74, 74, 32)        0         \n",
            "_________________________________________________________________\n",
            "conv2d_1 (Conv2D)            (None, 72, 72, 64)        18496     \n",
            "_________________________________________________________________\n",
            "max_pooling2d_1 (MaxPooling2 (None, 36, 36, 64)        0         \n",
            "_________________________________________________________________\n",
            "conv2d_2 (Conv2D)            (None, 34, 34, 128)       73856     \n",
            "_________________________________________________________________\n",
            "max_pooling2d_2 (MaxPooling2 (None, 17, 17, 128)       0         \n",
            "_________________________________________________________________\n",
            "conv2d_3 (Conv2D)            (None, 15, 15, 128)       147584    \n",
            "_________________________________________________________________\n",
            "max_pooling2d_3 (MaxPooling2 (None, 7, 7, 128)         0         \n",
            "_________________________________________________________________\n",
            "dropout (Dropout)            (None, 7, 7, 128)         0         \n",
            "_________________________________________________________________\n",
            "flatten (Flatten)            (None, 6272)              0         \n",
            "_________________________________________________________________\n",
            "dense (Dense)                (None, 512)               3211776   \n",
            "_________________________________________________________________\n",
            "dense_1 (Dense)              (None, 2)                 1026      \n",
            "=================================================================\n",
            "Total params: 3,453,634\n",
            "Trainable params: 3,453,634\n",
            "Non-trainable params: 0\n",
            "_________________________________________________________________\n",
            "WARNING:tensorflow:From <ipython-input-13-12d01bb64348>:33: Model.fit_generator (from tensorflow.python.keras.engine.training) is deprecated and will be removed in a future version.\n",
            "Instructions for updating:\n",
            "Please use Model.fit, which supports generators.\n",
            "WARNING:tensorflow:sample_weight modes were coerced from\n",
            "  ...\n",
            "    to  \n",
            "  ['...']\n",
            "WARNING:tensorflow:sample_weight modes were coerced from\n",
            "  ...\n",
            "    to  \n",
            "  ['...']\n",
            "Train for 100 steps, validate for 25 steps\n",
            "Epoch 1/100\n",
            "100/100 [==============================] - 207s 2s/step - loss: 0.6943 - accuracy: 0.5123 - val_loss: 0.6931 - val_accuracy: 0.4890\n",
            "Epoch 2/100\n",
            "100/100 [==============================] - 204s 2s/step - loss: 0.6930 - accuracy: 0.5050 - val_loss: 0.7019 - val_accuracy: 0.5000\n",
            "Epoch 3/100\n",
            "100/100 [==============================] - 204s 2s/step - loss: 0.6942 - accuracy: 0.4988 - val_loss: 0.6928 - val_accuracy: 0.5000\n",
            "Epoch 4/100\n",
            "100/100 [==============================] - 205s 2s/step - loss: 0.6928 - accuracy: 0.5130 - val_loss: 0.6921 - val_accuracy: 0.5250\n",
            "Epoch 5/100\n",
            "100/100 [==============================] - 205s 2s/step - loss: 0.6892 - accuracy: 0.5343 - val_loss: 0.6874 - val_accuracy: 0.5370\n",
            "Epoch 6/100\n",
            "100/100 [==============================] - 205s 2s/step - loss: 0.6840 - accuracy: 0.5570 - val_loss: 0.6798 - val_accuracy: 0.5420\n",
            "Epoch 7/100\n",
            "100/100 [==============================] - 204s 2s/step - loss: 0.6711 - accuracy: 0.5872 - val_loss: 0.6412 - val_accuracy: 0.6340\n",
            "Epoch 8/100\n",
            "100/100 [==============================] - 204s 2s/step - loss: 0.6680 - accuracy: 0.5930 - val_loss: 0.6317 - val_accuracy: 0.6640\n",
            "Epoch 9/100\n",
            "100/100 [==============================] - 204s 2s/step - loss: 0.6434 - accuracy: 0.6345 - val_loss: 0.6178 - val_accuracy: 0.6730\n",
            "Epoch 10/100\n",
            "100/100 [==============================] - 204s 2s/step - loss: 0.6283 - accuracy: 0.6453 - val_loss: 0.6925 - val_accuracy: 0.5640\n",
            "Epoch 11/100\n",
            "100/100 [==============================] - 205s 2s/step - loss: 0.6134 - accuracy: 0.6540 - val_loss: 0.6273 - val_accuracy: 0.6500\n",
            "Epoch 12/100\n",
            "100/100 [==============================] - 205s 2s/step - loss: 0.6160 - accuracy: 0.6628 - val_loss: 0.5732 - val_accuracy: 0.6910\n",
            "Epoch 13/100\n",
            "100/100 [==============================] - 206s 2s/step - loss: 0.5995 - accuracy: 0.6745 - val_loss: 0.5771 - val_accuracy: 0.6900\n",
            "Epoch 14/100\n",
            "100/100 [==============================] - 205s 2s/step - loss: 0.5890 - accuracy: 0.6940 - val_loss: 0.5501 - val_accuracy: 0.7250\n",
            "Epoch 15/100\n",
            "100/100 [==============================] - 205s 2s/step - loss: 0.5945 - accuracy: 0.6883 - val_loss: 0.5558 - val_accuracy: 0.7240\n",
            "Epoch 16/100\n",
            "100/100 [==============================] - 205s 2s/step - loss: 0.5850 - accuracy: 0.6933 - val_loss: 0.5424 - val_accuracy: 0.7340\n",
            "Epoch 17/100\n",
            "100/100 [==============================] - 205s 2s/step - loss: 0.5853 - accuracy: 0.6913 - val_loss: 0.5745 - val_accuracy: 0.6790\n",
            "Epoch 18/100\n",
            "100/100 [==============================] - 205s 2s/step - loss: 0.5667 - accuracy: 0.7023 - val_loss: 0.5524 - val_accuracy: 0.7180\n",
            "Epoch 19/100\n",
            "100/100 [==============================] - 205s 2s/step - loss: 0.5620 - accuracy: 0.7130 - val_loss: 0.5413 - val_accuracy: 0.7210\n",
            "Epoch 20/100\n",
            "100/100 [==============================] - 204s 2s/step - loss: 0.5538 - accuracy: 0.7178 - val_loss: 0.5129 - val_accuracy: 0.7450\n",
            "Epoch 21/100\n",
            "100/100 [==============================] - 204s 2s/step - loss: 0.5639 - accuracy: 0.7107 - val_loss: 0.5014 - val_accuracy: 0.7570\n",
            "Epoch 22/100\n",
            "100/100 [==============================] - 204s 2s/step - loss: 0.5459 - accuracy: 0.7265 - val_loss: 0.4917 - val_accuracy: 0.7610\n",
            "Epoch 23/100\n",
            "100/100 [==============================] - 205s 2s/step - loss: 0.5332 - accuracy: 0.7377 - val_loss: 0.4709 - val_accuracy: 0.7850\n",
            "Epoch 24/100\n",
            "100/100 [==============================] - 205s 2s/step - loss: 0.5442 - accuracy: 0.7305 - val_loss: 0.4791 - val_accuracy: 0.7690\n",
            "Epoch 25/100\n",
            "100/100 [==============================] - 204s 2s/step - loss: 0.5294 - accuracy: 0.7335 - val_loss: 0.4774 - val_accuracy: 0.7570\n",
            "Epoch 26/100\n",
            "100/100 [==============================] - 205s 2s/step - loss: 0.5231 - accuracy: 0.7393 - val_loss: 0.4582 - val_accuracy: 0.7860\n",
            "Epoch 27/100\n",
            "100/100 [==============================] - 204s 2s/step - loss: 0.5360 - accuracy: 0.7315 - val_loss: 0.4684 - val_accuracy: 0.7790\n",
            "Epoch 28/100\n",
            "100/100 [==============================] - 204s 2s/step - loss: 0.5140 - accuracy: 0.7538 - val_loss: 0.4631 - val_accuracy: 0.7850\n",
            "Epoch 29/100\n",
            "100/100 [==============================] - 205s 2s/step - loss: 0.5078 - accuracy: 0.7520 - val_loss: 0.4485 - val_accuracy: 0.7870\n",
            "Epoch 30/100\n",
            "100/100 [==============================] - 204s 2s/step - loss: 0.4982 - accuracy: 0.7527 - val_loss: 0.5243 - val_accuracy: 0.7290\n",
            "Epoch 31/100\n",
            "100/100 [==============================] - 205s 2s/step - loss: 0.5002 - accuracy: 0.7573 - val_loss: 0.4350 - val_accuracy: 0.8110\n",
            "Epoch 32/100\n",
            "100/100 [==============================] - 205s 2s/step - loss: 0.4868 - accuracy: 0.7640 - val_loss: 0.4908 - val_accuracy: 0.7610\n",
            "Epoch 33/100\n",
            "100/100 [==============================] - 205s 2s/step - loss: 0.4853 - accuracy: 0.7713 - val_loss: 0.4845 - val_accuracy: 0.7580\n",
            "Epoch 34/100\n",
            "100/100 [==============================] - 204s 2s/step - loss: 0.4767 - accuracy: 0.7740 - val_loss: 0.4149 - val_accuracy: 0.8090\n",
            "Epoch 35/100\n",
            "100/100 [==============================] - 204s 2s/step - loss: 0.4663 - accuracy: 0.7825 - val_loss: 0.4267 - val_accuracy: 0.8090\n",
            "Epoch 36/100\n",
            "100/100 [==============================] - 205s 2s/step - loss: 0.4625 - accuracy: 0.7895 - val_loss: 0.4003 - val_accuracy: 0.8180\n",
            "Epoch 37/100\n",
            "100/100 [==============================] - 205s 2s/step - loss: 0.4545 - accuracy: 0.7850 - val_loss: 0.4616 - val_accuracy: 0.7680\n",
            "Epoch 38/100\n",
            "100/100 [==============================] - 205s 2s/step - loss: 0.4525 - accuracy: 0.7828 - val_loss: 0.3844 - val_accuracy: 0.8180\n",
            "Epoch 39/100\n",
            "100/100 [==============================] - 205s 2s/step - loss: 0.4349 - accuracy: 0.8035 - val_loss: 0.4504 - val_accuracy: 0.7690\n",
            "Epoch 40/100\n",
            "100/100 [==============================] - 205s 2s/step - loss: 0.4239 - accuracy: 0.8110 - val_loss: 0.3825 - val_accuracy: 0.8160\n",
            "Epoch 41/100\n",
            "100/100 [==============================] - 206s 2s/step - loss: 0.4333 - accuracy: 0.7975 - val_loss: 0.3588 - val_accuracy: 0.8250\n",
            "Epoch 42/100\n",
            "100/100 [==============================] - 205s 2s/step - loss: 0.4244 - accuracy: 0.8030 - val_loss: 0.4226 - val_accuracy: 0.7890\n",
            "Epoch 43/100\n",
            "100/100 [==============================] - 205s 2s/step - loss: 0.4170 - accuracy: 0.8087 - val_loss: 0.5666 - val_accuracy: 0.7380\n",
            "Epoch 44/100\n",
            "100/100 [==============================] - 206s 2s/step - loss: 0.4315 - accuracy: 0.8040 - val_loss: 0.3757 - val_accuracy: 0.8230\n",
            "Epoch 45/100\n",
            "100/100 [==============================] - 205s 2s/step - loss: 0.4072 - accuracy: 0.8127 - val_loss: 0.3395 - val_accuracy: 0.8470\n",
            "Epoch 46/100\n",
            "100/100 [==============================] - 206s 2s/step - loss: 0.4131 - accuracy: 0.8105 - val_loss: 0.3475 - val_accuracy: 0.8450\n",
            "Epoch 47/100\n",
            "100/100 [==============================] - 205s 2s/step - loss: 0.3949 - accuracy: 0.8215 - val_loss: 0.3277 - val_accuracy: 0.8570\n",
            "Epoch 48/100\n",
            "100/100 [==============================] - 206s 2s/step - loss: 0.3945 - accuracy: 0.8173 - val_loss: 0.3413 - val_accuracy: 0.8550\n",
            "Epoch 49/100\n",
            "100/100 [==============================] - 206s 2s/step - loss: 0.3866 - accuracy: 0.8213 - val_loss: 0.3797 - val_accuracy: 0.8260\n",
            "Epoch 50/100\n",
            "100/100 [==============================] - 206s 2s/step - loss: 0.3877 - accuracy: 0.8235 - val_loss: 0.3579 - val_accuracy: 0.8290\n",
            "Epoch 51/100\n",
            "100/100 [==============================] - 206s 2s/step - loss: 0.3862 - accuracy: 0.8205 - val_loss: 0.4346 - val_accuracy: 0.7820\n",
            "Epoch 52/100\n",
            "100/100 [==============================] - 206s 2s/step - loss: 0.3856 - accuracy: 0.8215 - val_loss: 0.3215 - val_accuracy: 0.8610\n",
            "Epoch 53/100\n",
            "100/100 [==============================] - 207s 2s/step - loss: 0.3730 - accuracy: 0.8285 - val_loss: 0.3129 - val_accuracy: 0.8620\n",
            "Epoch 54/100\n",
            "100/100 [==============================] - 207s 2s/step - loss: 0.3711 - accuracy: 0.8350 - val_loss: 0.3830 - val_accuracy: 0.8070\n",
            "Epoch 55/100\n",
            "100/100 [==============================] - 207s 2s/step - loss: 0.3558 - accuracy: 0.8360 - val_loss: 0.3171 - val_accuracy: 0.8640\n",
            "Epoch 56/100\n",
            "100/100 [==============================] - 206s 2s/step - loss: 0.3708 - accuracy: 0.8322 - val_loss: 0.3367 - val_accuracy: 0.8400\n",
            "Epoch 57/100\n",
            "100/100 [==============================] - 207s 2s/step - loss: 0.3627 - accuracy: 0.8420 - val_loss: 0.3118 - val_accuracy: 0.8600\n",
            "Epoch 58/100\n",
            "100/100 [==============================] - 207s 2s/step - loss: 0.3452 - accuracy: 0.8503 - val_loss: 0.3550 - val_accuracy: 0.8460\n",
            "Epoch 59/100\n",
            "100/100 [==============================] - 206s 2s/step - loss: 0.3549 - accuracy: 0.8453 - val_loss: 0.2924 - val_accuracy: 0.8740\n",
            "Epoch 60/100\n",
            "100/100 [==============================] - 207s 2s/step - loss: 0.3564 - accuracy: 0.8430 - val_loss: 0.3204 - val_accuracy: 0.8570\n",
            "Epoch 61/100\n",
            "100/100 [==============================] - 207s 2s/step - loss: 0.3303 - accuracy: 0.8528 - val_loss: 0.3533 - val_accuracy: 0.8470\n",
            "Epoch 62/100\n",
            "100/100 [==============================] - 206s 2s/step - loss: 0.3269 - accuracy: 0.8565 - val_loss: 0.3247 - val_accuracy: 0.8520\n",
            "Epoch 63/100\n",
            "100/100 [==============================] - 206s 2s/step - loss: 0.3337 - accuracy: 0.8553 - val_loss: 0.3108 - val_accuracy: 0.8720\n",
            "Epoch 64/100\n",
            "100/100 [==============================] - 206s 2s/step - loss: 0.3274 - accuracy: 0.8587 - val_loss: 0.3077 - val_accuracy: 0.8650\n",
            "Epoch 65/100\n",
            "100/100 [==============================] - 205s 2s/step - loss: 0.3384 - accuracy: 0.8500 - val_loss: 0.2954 - val_accuracy: 0.8720\n",
            "Epoch 66/100\n",
            "100/100 [==============================] - 205s 2s/step - loss: 0.3255 - accuracy: 0.8658 - val_loss: 0.3050 - val_accuracy: 0.8620\n",
            "Epoch 67/100\n",
            "100/100 [==============================] - 205s 2s/step - loss: 0.3222 - accuracy: 0.8590 - val_loss: 0.2965 - val_accuracy: 0.8650\n",
            "Epoch 68/100\n",
            "100/100 [==============================] - 205s 2s/step - loss: 0.3214 - accuracy: 0.8570 - val_loss: 0.2927 - val_accuracy: 0.8740\n",
            "Epoch 69/100\n",
            "100/100 [==============================] - 205s 2s/step - loss: 0.3105 - accuracy: 0.8648 - val_loss: 0.3200 - val_accuracy: 0.8440\n",
            "Epoch 70/100\n",
            "100/100 [==============================] - 205s 2s/step - loss: 0.3332 - accuracy: 0.8550 - val_loss: 0.3743 - val_accuracy: 0.8450\n",
            "Epoch 71/100\n",
            "100/100 [==============================] - 205s 2s/step - loss: 0.3051 - accuracy: 0.8690 - val_loss: 0.2776 - val_accuracy: 0.8790\n",
            "Epoch 72/100\n",
            "100/100 [==============================] - 206s 2s/step - loss: 0.3106 - accuracy: 0.8615 - val_loss: 0.2980 - val_accuracy: 0.8810\n",
            "Epoch 73/100\n",
            "100/100 [==============================] - 205s 2s/step - loss: 0.3086 - accuracy: 0.8690 - val_loss: 0.2669 - val_accuracy: 0.8910\n",
            "Epoch 74/100\n",
            "100/100 [==============================] - 206s 2s/step - loss: 0.3121 - accuracy: 0.8685 - val_loss: 0.2769 - val_accuracy: 0.8880\n",
            "Epoch 75/100\n",
            "100/100 [==============================] - 206s 2s/step - loss: 0.2977 - accuracy: 0.8685 - val_loss: 0.2640 - val_accuracy: 0.8900\n",
            "Epoch 76/100\n",
            "100/100 [==============================] - 206s 2s/step - loss: 0.2967 - accuracy: 0.8698 - val_loss: 0.2906 - val_accuracy: 0.8810\n",
            "Epoch 77/100\n",
            "100/100 [==============================] - 205s 2s/step - loss: 0.3041 - accuracy: 0.8690 - val_loss: 0.2980 - val_accuracy: 0.8630\n",
            "Epoch 78/100\n",
            "100/100 [==============================] - 206s 2s/step - loss: 0.2996 - accuracy: 0.8698 - val_loss: 0.2860 - val_accuracy: 0.8800\n",
            "Epoch 79/100\n",
            "100/100 [==============================] - 206s 2s/step - loss: 0.2946 - accuracy: 0.8702 - val_loss: 0.2734 - val_accuracy: 0.8880\n",
            "Epoch 80/100\n",
            "100/100 [==============================] - 206s 2s/step - loss: 0.2850 - accuracy: 0.8758 - val_loss: 0.3340 - val_accuracy: 0.8600\n",
            "Epoch 81/100\n",
            "100/100 [==============================] - 206s 2s/step - loss: 0.3003 - accuracy: 0.8712 - val_loss: 0.2959 - val_accuracy: 0.8690\n",
            "Epoch 82/100\n",
            "100/100 [==============================] - 205s 2s/step - loss: 0.2751 - accuracy: 0.8827 - val_loss: 0.2993 - val_accuracy: 0.8740\n",
            "Epoch 83/100\n",
            "100/100 [==============================] - 205s 2s/step - loss: 0.2844 - accuracy: 0.8785 - val_loss: 0.2797 - val_accuracy: 0.8780\n",
            "Epoch 84/100\n",
            "100/100 [==============================] - 206s 2s/step - loss: 0.2807 - accuracy: 0.8855 - val_loss: 0.3094 - val_accuracy: 0.8620\n",
            "Epoch 85/100\n",
            "100/100 [==============================] - 207s 2s/step - loss: 0.2855 - accuracy: 0.8785 - val_loss: 0.2487 - val_accuracy: 0.8930\n",
            "Epoch 86/100\n",
            "100/100 [==============================] - 206s 2s/step - loss: 0.2696 - accuracy: 0.8870 - val_loss: 0.2440 - val_accuracy: 0.8890\n",
            "Epoch 87/100\n",
            "100/100 [==============================] - 205s 2s/step - loss: 0.2676 - accuracy: 0.8875 - val_loss: 0.2930 - val_accuracy: 0.8650\n",
            "Epoch 88/100\n",
            "100/100 [==============================] - 205s 2s/step - loss: 0.2752 - accuracy: 0.8825 - val_loss: 0.2690 - val_accuracy: 0.8970\n",
            "Epoch 89/100\n",
            "100/100 [==============================] - 206s 2s/step - loss: 0.2723 - accuracy: 0.8880 - val_loss: 0.2541 - val_accuracy: 0.8880\n",
            "Epoch 90/100\n",
            "100/100 [==============================] - 206s 2s/step - loss: 0.2728 - accuracy: 0.8910 - val_loss: 0.2774 - val_accuracy: 0.8850\n",
            "Epoch 91/100\n",
            "100/100 [==============================] - 207s 2s/step - loss: 0.2598 - accuracy: 0.8932 - val_loss: 0.3255 - val_accuracy: 0.8610\n",
            "Epoch 92/100\n",
            "100/100 [==============================] - 206s 2s/step - loss: 0.2607 - accuracy: 0.8935 - val_loss: 0.3552 - val_accuracy: 0.8560\n",
            "Epoch 93/100\n",
            "100/100 [==============================] - 205s 2s/step - loss: 0.2713 - accuracy: 0.8907 - val_loss: 0.3359 - val_accuracy: 0.8540\n",
            "Epoch 94/100\n",
            "100/100 [==============================] - 205s 2s/step - loss: 0.2609 - accuracy: 0.8932 - val_loss: 0.2544 - val_accuracy: 0.8930\n",
            "Epoch 95/100\n",
            "100/100 [==============================] - 206s 2s/step - loss: 0.2535 - accuracy: 0.8850 - val_loss: 0.2558 - val_accuracy: 0.8880\n",
            "Epoch 96/100\n",
            "100/100 [==============================] - 206s 2s/step - loss: 0.2542 - accuracy: 0.8905 - val_loss: 0.2579 - val_accuracy: 0.8900\n",
            "Epoch 97/100\n",
            "100/100 [==============================] - 206s 2s/step - loss: 0.2496 - accuracy: 0.8935 - val_loss: 0.2355 - val_accuracy: 0.9050\n",
            "Epoch 98/100\n",
            "100/100 [==============================] - 207s 2s/step - loss: 0.2409 - accuracy: 0.9025 - val_loss: 0.2370 - val_accuracy: 0.8950\n",
            "Epoch 99/100\n",
            "100/100 [==============================] - 206s 2s/step - loss: 0.2543 - accuracy: 0.8917 - val_loss: 0.2794 - val_accuracy: 0.8800\n",
            "Epoch 100/100\n",
            "100/100 [==============================] - 206s 2s/step - loss: 0.2531 - accuracy: 0.8925 - val_loss: 0.2789 - val_accuracy: 0.8770\n"
          ],
          "name": "stdout"
        }
      ]
    },
    {
      "cell_type": "markdown",
      "metadata": {
        "id": "w1de4tKXiezj",
        "colab_type": "text"
      },
      "source": [
        "#Result Visualisation"
      ]
    },
    {
      "cell_type": "code",
      "metadata": {
        "id": "O6L5oKYQihAc",
        "colab_type": "code",
        "colab": {
          "base_uri": "https://localhost:8080/",
          "height": 499
        },
        "outputId": "7055802d-4724-4543-d6b2-3795c3eb3240"
      },
      "source": [
        "acc = history.history['accuracy']\n",
        "val_acc = history.history['val_accuracy']\n",
        "\n",
        "loss = history.history['loss']\n",
        "val_loss = history.history['val_loss']\n",
        "\n",
        "epochs_range = range(epochs)\n",
        "\n",
        "plt.figure(figsize=(8, 8))\n",
        "plt.subplot(1, 2, 1)\n",
        "plt.plot(epochs_range, acc, label='Training Accuracy')\n",
        "plt.plot(epochs_range, val_acc, label='Validation Accuracy')\n",
        "plt.legend(loc='lower right')\n",
        "plt.title('Training and Validation Accuracy')\n",
        "\n",
        "plt.subplot(1, 2, 2)\n",
        "plt.plot(epochs_range, loss, label='Training Loss')\n",
        "plt.plot(epochs_range, val_loss, label='Validation Loss')\n",
        "plt.legend(loc='upper right')\n",
        "plt.title('Training and Validation Loss')\n",
        "plt.show()"
      ],
      "execution_count": 14,
      "outputs": [
        {
          "output_type": "display_data",
          "data": {
            "image/png": "[encoded data removed]",
            "text/plain": [
              "<Figure size 576x576 with 2 Axes>"
            ]
          },
          "metadata": {
            "tags": []
          }
        }
      ]
    },
    {
      "cell_type": "markdown",
      "metadata": {
        "id": "dLygrpOdwS7J",
        "colab_type": "text"
      },
      "source": [
        "#Using Pre Trained Inception Resent V2 Network"
      ]
    },
    {
      "cell_type": "code",
      "metadata": {
        "id": "k_OGXi1IwZ55",
        "colab_type": "code",
        "colab": {}
      },
      "source": [
        "from tensorflow.keras.applications import incepti"
      ],
      "execution_count": 0,
      "outputs": []
    },
    {
      "cell_type": "code",
      "metadata": {
        "id": "bbPEt3T4w_bX",
        "colab_type": "code",
        "colab": {}
      },
      "source": [
        ""
      ],
      "execution_count": 0,
      "outputs": []
    }
  ]
}