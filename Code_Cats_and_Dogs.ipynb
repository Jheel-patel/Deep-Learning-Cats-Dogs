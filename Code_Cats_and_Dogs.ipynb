{
  "nbformat": 4,
  "nbformat_minor": 0,
  "metadata": {
    "colab": {
      "name": "Code_Cats and Dogs.ipynb",
      "provenance": []
    },
    "kernelspec": {
      "name": "python3",
      "display_name": "Python 3"
    },
    "accelerator": "TPU"
  },
  "cells": [
    {
      "cell_type": "markdown",
      "metadata": {
        "id": "p95WZ9BffZQK",
        "colab_type": "text"
      },
      "source": [
        "#Connect to google drive"
      ]
    },
    {
      "cell_type": "code",
      "metadata": {
        "id": "A_TbA1Sie7LP",
        "colab_type": "code",
        "outputId": "081a9b44-7c1b-45d3-ab56-17a870832601",
        "colab": {
          "base_uri": "https://localhost:8080/",
          "height": 121
        }
      },
      "source": [
        "from google.colab import drive\n",
        "drive.mount('/content/drive')"
      ],
      "execution_count": 1,
      "outputs": [
        {
          "output_type": "stream",
          "text": [
            "Go to this URL in a browser: https://accounts.google.com/o/oauth2/auth?client_id=947318989803-6bn6qk8qdgf4n4g3pfee6491hc0brc4i.apps.googleusercontent.com&redirect_uri=urn%3aietf%3awg%3aoauth%3a2.0%3aoob&response_type=code&scope=email%20https%3a%2f%2fwww.googleapis.com%2fauth%2fdocs.test%20https%3a%2f%2fwww.googleapis.com%2fauth%2fdrive%20https%3a%2f%2fwww.googleapis.com%2fauth%2fdrive.photos.readonly%20https%3a%2f%2fwww.googleapis.com%2fauth%2fpeopleapi.readonly\n",
            "\n",
            "Enter your authorization code:\n",
            "··········\n",
            "Mounted at /content/drive\n"
          ],
          "name": "stdout"
        }
      ]
    },
    {
      "cell_type": "markdown",
      "metadata": {
        "id": "JjWjgg-Xfc9y",
        "colab_type": "text"
      },
      "source": [
        "#Copy data to local drive"
      ]
    },
    {
      "cell_type": "code",
      "metadata": {
        "id": "MHECNzqMfGVv",
        "colab_type": "code",
        "colab": {}
      },
      "source": [
        "import os, shutil\n",
        "\n",
        "!mkdir 'data'\n",
        "!mkdir 'data/training_set'\n",
        "!mkdir 'data/validation_set'\n",
        "!mkdir 'data/training_set/cats' \n",
        "!mkdir 'data/training_set/dogs' \n",
        "!mkdir 'data/validation_set/cats' \n",
        "!mkdir 'data/validation_set/dogs'\n",
        "\n",
        "\n",
        "source_data_dir = '/content/drive/My Drive/3.Projects/Cats and Dogs/train'\n",
        "\n",
        "#if os.listdir('data/training_set/cats')==[]:\n",
        "for file in ['cat.{}.jpg'.format(i) for i in range(2000)]:\n",
        "        shutil.copyfile(os.path.join(source_data_dir,file),os.path.join(\"data/training_set/cats\",file))"
      ],
      "execution_count": 0,
      "outputs": []
    },
    {
      "cell_type": "code",
      "metadata": {
        "id": "HBNlS4NvmUUV",
        "colab_type": "code",
        "colab": {}
      },
      "source": [
        "for file in ['dog.{}.jpg'.format(i) for i in range(2000)]:\n",
        "        shutil.copyfile(os.path.join(source_data_dir,file),os.path.join(\"data/training_set/dogs\",file))"
      ],
      "execution_count": 0,
      "outputs": []
    },
    {
      "cell_type": "code",
      "metadata": {
        "id": "4rsritX5mUHF",
        "colab_type": "code",
        "colab": {}
      },
      "source": [
        "for file in ['cat.{}.jpg'.format(i) for i in range(2000,2500)]:\n",
        "        shutil.copyfile(os.path.join(source_data_dir,file),os.path.join(\"data/validation_set/cats\",file))"
      ],
      "execution_count": 0,
      "outputs": []
    },
    {
      "cell_type": "code",
      "metadata": {
        "id": "T-zYyj8imT4y",
        "colab_type": "code",
        "colab": {}
      },
      "source": [
        "for file in ['dog.{}.jpg'.format(i) for i in range(2000,2500)]:\n",
        "        shutil.copyfile(os.path.join(source_data_dir,file),os.path.join(\"data/validation_set/dogs\",file))"
      ],
      "execution_count": 0,
      "outputs": []
    },
    {
      "cell_type": "markdown",
      "metadata": {
        "id": "tWqJKxlQf4Ni",
        "colab_type": "text"
      },
      "source": [
        "#Count number of images"
      ]
    },
    {
      "cell_type": "code",
      "metadata": {
        "id": "x2RSOiLIf80K",
        "colab_type": "code",
        "colab": {}
      },
      "source": [
        "\n",
        "path, dirs, train_cat_files = next(os.walk(\"data/training_set/cats\"))\n",
        "path, dirs, train_dog_files = next(os.walk(\"data/training_set/dogs\"))\n",
        "path, dirs, val_cat_files = next(os.walk(\"data/validation_set/cats\"))\n",
        "path, dirs, val_dog_files = next(os.walk(\"data/validation_set/dogs\"))\n",
        "\n",
        "num_cats_tr = len(train_cat_files)\n",
        "num_dogs_tr = len(train_dog_files)\n",
        "\n",
        "num_cats_val = len(val_cat_files)\n",
        "num_dogs_val = len(val_dog_files)\n",
        "\n",
        "total_train = num_cats_tr + num_dogs_tr\n",
        "total_val = num_cats_val + num_dogs_val\n",
        "total_train , total_val"
      ],
      "execution_count": 0,
      "outputs": []
    },
    {
      "cell_type": "markdown",
      "metadata": {
        "id": "IB8n1OFyf_8K",
        "colab_type": "text"
      },
      "source": [
        "#Import Library"
      ]
    },
    {
      "cell_type": "code",
      "metadata": {
        "id": "TPWfM_27gBXk",
        "colab_type": "code",
        "colab": {}
      },
      "source": [
        "import numpy as np\n",
        "import pandas as pd\n",
        "import cv2\n",
        "import matplotlib.pyplot as plt\n",
        "\n",
        "%tensorflow_version 2.x\n",
        "import tensorflow as tf"
      ],
      "execution_count": 0,
      "outputs": []
    },
    {
      "cell_type": "markdown",
      "metadata": {
        "id": "e3d26jhYgQU2",
        "colab_type": "text"
      },
      "source": [
        "#Data Preprocessing"
      ]
    },
    {
      "cell_type": "code",
      "metadata": {
        "id": "mDVAp1B7gSga",
        "colab_type": "code",
        "colab": {}
      },
      "source": [
        "IMG_SHAPE=150\n",
        "BATCH_SIZE=40\n",
        "\n",
        "\n",
        "train_dir='data/training_set'\n",
        "validation_dir ='data/validation_set'\n",
        "#Augmented Image\n",
        "\n",
        "image_gen_train = ImageDataGenerator(\n",
        "      rescale=1./255,\n",
        "      rotation_range=40,\n",
        "      width_shift_range=0.2,\n",
        "      height_shift_range=0.2,\n",
        "      shear_range=0.2,\n",
        "      zoom_range=0.2,\n",
        "      horizontal_flip=True,\n",
        "      fill_mode='nearest')\n",
        "\n",
        "train_data_gen = image_gen_train.flow_from_directory(batch_size=BATCH_SIZE,\n",
        "                                                     directory=train_dir,\n",
        "                                                     shuffle=True,\n",
        "                                                     target_size=(IMG_SHAPE,IMG_SHAPE),\n",
        "                                                     class_mode='binary')\n",
        "\n",
        "image_gen_val = ImageDataGenerator(rescale=1./255)\n",
        "\n",
        "val_data_gen = image_gen_val.flow_from_directory(batch_size=BATCH_SIZE,\n",
        "                                                 directory=validation_dir,\n",
        "                                                 target_size=(IMG_SHAPE, IMG_SHAPE),\n",
        "                                                 class_mode='binary')"
      ],
      "execution_count": 0,
      "outputs": []
    },
    {
      "cell_type": "markdown",
      "metadata": {
        "id": "7kYsRu06h91a",
        "colab_type": "text"
      },
      "source": [
        "#Create and train model"
      ]
    },
    {
      "cell_type": "code",
      "metadata": {
        "id": "_sHn5amDh9Vq",
        "colab_type": "code",
        "colab": {}
      },
      "source": [
        "model = tf.keras.models.Sequential([\n",
        "    tf.keras.layers.Conv2D(32, (3,3), activation='relu', input_shape=(150, 150, 3)),\n",
        "    tf.keras.layers.MaxPooling2D(2, 2),\n",
        "\n",
        "    tf.keras.layers.Conv2D(64, (3,3), activation='relu'),\n",
        "    tf.keras.layers.MaxPooling2D(2,2),\n",
        "\n",
        "    tf.keras.layers.Conv2D(128, (3,3), activation='relu'),\n",
        "    tf.keras.layers.MaxPooling2D(2,2),\n",
        "\n",
        "    tf.keras.layers.Conv2D(128, (3,3), activation='relu'),\n",
        "    tf.keras.layers.MaxPooling2D(2,2),\n",
        "\n",
        "    tf.keras.layers.Dropout(0.5),\n",
        "    tf.keras.layers.Flatten(),\n",
        "    tf.keras.layers.Dense(512, activation='relu'),\n",
        "    tf.keras.layers.Dense(2, activation='softmax')\n",
        "])\n",
        "\n",
        "model.compile(optimizer='adam',\n",
        "              loss='sparse_categorical_crossentropy',\n",
        "              metrics=['accuracy'])\n",
        "\n",
        "model.summary()\n",
        "\n",
        "\n",
        "epochs=100\n",
        "history = model.fit_generator(\n",
        "    train_data_gen,\n",
        "    steps_per_epoch=int(np.ceil(total_train / float(BATCH_SIZE))),\n",
        "    epochs=epochs,\n",
        "    validation_data=val_data_gen,\n",
        "    validation_steps=int(np.ceil(total_val / float(BATCH_SIZE)))\n",
        ")"
      ],
      "execution_count": 0,
      "outputs": []
    },
    {
      "cell_type": "markdown",
      "metadata": {
        "id": "w1de4tKXiezj",
        "colab_type": "text"
      },
      "source": [
        "#Result Visualisation"
      ]
    },
    {
      "cell_type": "code",
      "metadata": {
        "id": "O6L5oKYQihAc",
        "colab_type": "code",
        "colab": {}
      },
      "source": [
        "acc = history.history['accuracy']\n",
        "val_acc = history.history['val_accuracy']\n",
        "\n",
        "loss = history.history['loss']\n",
        "val_loss = history.history['val_loss']\n",
        "\n",
        "epochs_range = range(epochs)\n",
        "\n",
        "plt.figure(figsize=(8, 8))\n",
        "plt.subplot(1, 2, 1)\n",
        "plt.plot(epochs_range, acc, label='Training Accuracy')\n",
        "plt.plot(epochs_range, val_acc, label='Validation Accuracy')\n",
        "plt.legend(loc='lower right')\n",
        "plt.title('Training and Validation Accuracy')\n",
        "\n",
        "plt.subplot(1, 2, 2)\n",
        "plt.plot(epochs_range, loss, label='Training Loss')\n",
        "plt.plot(epochs_range, val_loss, label='Validation Loss')\n",
        "plt.legend(loc='upper right')\n",
        "plt.title('Training and Validation Loss')\n",
        "plt.show()"
      ],
      "execution_count": 0,
      "outputs": []
    }
  ]
}