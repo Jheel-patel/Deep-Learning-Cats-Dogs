{
  "nbformat": 4,
  "nbformat_minor": 0,
  "metadata": {
    "colab": {
      "name": "MNSIT with 96%accuracy.ipynb",
      "provenance": [],
      "toc_visible": true,
      "authorship_tag": "ABX9TyNgsTd2ExvdJ1lT4XW1h/Go",
      "include_colab_link": true
    },
    "kernelspec": {
      "name": "python3",
      "display_name": "Python 3"
    },
    "accelerator": "GPU"
  },
  "cells": [
    {
      "cell_type": "markdown",
      "metadata": {
        "id": "view-in-github",
        "colab_type": "text"
      },
      "source": [
        "<a href=\"https://colab.research.google.com/github/Jheel-patel/Deep-Learning-Cats-Dogs/blob/master/MNSIT_with_96_accuracy.ipynb\" target=\"_parent\"><img src=\"https://colab.research.google.com/assets/colab-badge.svg\" alt=\"Open In Colab\"/></a>"
      ]
    },
    {
      "cell_type": "code",
      "metadata": {
        "id": "XVpO7EW4ifX-",
        "colab_type": "code",
        "colab": {
          "base_uri": "https://localhost:8080/",
          "height": 267
        },
        "outputId": "cdf1101a-44b4-4e02-de61-bb95c0215fd6"
      },
      "source": [
        "#Importing All required Library\n",
        "\n",
        "import pandas as pd\n",
        "import numpy as np\n",
        "%tensorflow_version 2.x\n",
        "import tensorflow as tf\n",
        "from tensorflow.keras import datasets\n",
        "from tensorflow.keras.layers import Conv2D,Flatten,MaxPooling2D,Dense,Dropout,BatchNormalization\n",
        "import matplotlib.pyplot as plt\n",
        "\n",
        "from tensorflow.keras.utils import to_categorical\n",
        "\n",
        "#Specify 'channels_first' to be the dimension ordering convention Keras will follow.\n",
        "tf.keras.backend.set_image_data_format('channels_first')\n",
        "\n",
        "# Load dataset (download if needed)\n",
        "(X_train, y_train), (X_test, y_test) = datasets.mnist.load_data()\n",
        "\n",
        "#Extracting the validation set\n",
        "from sklearn.model_selection import train_test_split\n",
        "\n",
        "X_train,X_val, y_train,y_val = train_test_split(X_train,y_train,test_size=.3)\n",
        "\n",
        "plt.subplot(221)\n",
        "plt.imshow(X_train[0], cmap=plt.get_cmap('gray'))\n",
        "plt.subplot(222)\n",
        "plt.imshow(X_train[1], cmap=plt.get_cmap('gray'))\n",
        "plt.subplot(223)\n",
        "plt.imshow(X_train[2], cmap=plt.get_cmap('gray'))\n",
        "plt.subplot(224)\n",
        "plt.imshow(X_train[3], cmap=plt.get_cmap('gray'))\n",
        "\n",
        "plt.show()"
      ],
      "execution_count": 8,
      "outputs": [
        {
          "output_type": "display_data",
          "data": {
            "image/png": "[encoded data removed]",
            "text/plain": [
              "<Figure size 432x288 with 4 Axes>"
            ]
          },
          "metadata": {
            "tags": []
          }
        }
      ]
    },
    {
      "cell_type": "markdown",
      "metadata": {
        "id": "JIYTCa6u34Sf",
        "colab_type": "text"
      },
      "source": [
        "#Pre-processing Data\n"
      ]
    },
    {
      "cell_type": "code",
      "metadata": {
        "id": "WH5FVXl-3whX",
        "colab_type": "code",
        "colab": {}
      },
      "source": [
        "X_train = X_train.reshape(X_train.shape[0],1,28,28).astype('float64')\n",
        "X_val = X_val.reshape(X_val.shape[0],1,28,28).astype('float64')\n",
        "\n",
        "X_train = X_train/255\n",
        "X_val = X_val/255\n",
        "\n",
        "#one hot encoding output y\n",
        "\n",
        "y_train = to_categorical(y_train)\n",
        "y_val = to_categorical(y_val)\n",
        "\n",
        "#total number of classes \n",
        "num_classes = y_train.shape[1]\n",
        "\n",
        "#input shape\n",
        "rows = X_train.shape[2]\n",
        "cols = X_train.shape[3]"
      ],
      "execution_count": 0,
      "outputs": []
    },
    {
      "cell_type": "code",
      "metadata": {
        "id": "TWN4hI_SYwYx",
        "colab_type": "code",
        "colab": {}
      },
      "source": [
        "#data Augmentation\n",
        "from tensorflow.keras.preprocessing.image import ImageDataGenerator\n",
        "\n",
        "# define data preparation\n",
        "datagen = ImageDataGenerator(rotation_range=10,width_shift_range=0.1,height_shift_range=0.1,zoom_range=0.1)\n",
        "\n",
        "# fit parameters from data\n",
        "datagen.fit(X_train,augment=True)\n",
        "\n",
        "# get transformed images\n",
        "train_size = X_train.shape[0]\n",
        "augment_size=42000\n",
        "randidx = np.random.randint(train_size, size=augment_size)\n",
        "X_augmented = X_train[randidx].copy()\n",
        "y_augmented = y_train[randidx].copy()\n",
        "X_augmented = datagen.flow(X_augmented, np.zeros(augment_size),\n",
        "                                    batch_size=augment_size, shuffle=False).next()[0]\n",
        "\n",
        "# append augmented data to trainset\n",
        "X_train = np.concatenate((X_train, X_augmented))\n",
        "y_train = np.concatenate((y_train, y_augmented))\n",
        "train_size = X_train.shape[0]"
      ],
      "execution_count": 0,
      "outputs": []
    },
    {
      "cell_type": "code",
      "metadata": {
        "id": "fGzLkCyt3UE0",
        "colab_type": "code",
        "colab": {}
      },
      "source": [
        "# defining a baseline model\n",
        "\n",
        "def baseline_model():\n",
        "    model = tf.keras.Sequential([\n",
        "                                 Conv2D(32,kernel_size=3,activation='relu',input_shape=(1,rows,cols)),\n",
        "                                 BatchNormalization(),\n",
        "                                 Conv2D(32,kernel_size=3,activation='relu'),\n",
        "                                 BatchNormalization(),\n",
        "                                 Conv2D(32,kernel_size=5,strides=2,padding='same',activation='relu'),\n",
        "                                 BatchNormalization(),\n",
        "                                 Dropout(0.4),\n",
        "\n",
        "                                 Conv2D(64,kernel_size=3,activation='relu'),\n",
        "                                 BatchNormalization(),\n",
        "                                 Conv2D(64,kernel_size=3,activation='relu'),\n",
        "                                 BatchNormalization(),\n",
        "                                 Conv2D(64,kernel_size=5,strides=2,padding='same',activation='relu'),\n",
        "                                 BatchNormalization(),\n",
        "                                 Dropout(0.4),\n",
        "\n",
        "                                 Flatten(),\n",
        "                                 Dense(128,activation='relu'),\n",
        "                                 BatchNormalization(),\n",
        "                                 Dropout(0.4),\n",
        "                                 Dense(num_classes,activation='softmax')\n",
        "                                ]) \n",
        "\n",
        "    model.summary()\n",
        "    model.compile(optimizer='adam',loss='categorical_crossentropy',metrics=['accuracy'])\n",
        "    \n",
        "    return model"
      ],
      "execution_count": 0,
      "outputs": []
    },
    {
      "cell_type": "code",
      "metadata": {
        "id": "69QiHZ3n_eGY",
        "colab_type": "code",
        "colab": {
          "base_uri": "https://localhost:8080/",
          "height": 1000
        },
        "outputId": "48dbfe86-2bf1-4422-f2eb-8db9bafb90e0"
      },
      "source": [
        "#Build a model\n",
        "\n",
        "model = baseline_model()\n",
        "BATCH_SIZE=32\n",
        "#Train the model\n",
        "model.fit(X_train,y_train,validation_data=(X_val,y_val),batch_size=BATCH_SIZE,epochs=30, verbose=2)\n",
        "\n",
        "model.save('model.h5')"
      ],
      "execution_count": 13,
      "outputs": [
        {
          "output_type": "stream",
          "text": [
            "Model: \"sequential_1\"\n",
            "_________________________________________________________________\n",
            "Layer (type)                 Output Shape              Param #   \n",
            "=================================================================\n",
            "conv2d_6 (Conv2D)            (None, 32, 26, 26)        320       \n",
            "_________________________________________________________________\n",
            "batch_normalization_7 (Batch (None, 32, 26, 26)        104       \n",
            "_________________________________________________________________\n",
            "conv2d_7 (Conv2D)            (None, 32, 24, 24)        9248      \n",
            "_________________________________________________________________\n",
            "batch_normalization_8 (Batch (None, 32, 24, 24)        96        \n",
            "_________________________________________________________________\n",
            "conv2d_8 (Conv2D)            (None, 32, 12, 12)        25632     \n",
            "_________________________________________________________________\n",
            "batch_normalization_9 (Batch (None, 32, 12, 12)        48        \n",
            "_________________________________________________________________\n",
            "dropout_3 (Dropout)          (None, 32, 12, 12)        0         \n",
            "_________________________________________________________________\n",
            "conv2d_9 (Conv2D)            (None, 64, 10, 10)        18496     \n",
            "_________________________________________________________________\n",
            "batch_normalization_10 (Batc (None, 64, 10, 10)        40        \n",
            "_________________________________________________________________\n",
            "conv2d_10 (Conv2D)           (None, 64, 8, 8)          36928     \n",
            "_________________________________________________________________\n",
            "batch_normalization_11 (Batc (None, 64, 8, 8)          32        \n",
            "_________________________________________________________________\n",
            "conv2d_11 (Conv2D)           (None, 64, 4, 4)          102464    \n",
            "_________________________________________________________________\n",
            "batch_normalization_12 (Batc (None, 64, 4, 4)          16        \n",
            "_________________________________________________________________\n",
            "dropout_4 (Dropout)          (None, 64, 4, 4)          0         \n",
            "_________________________________________________________________\n",
            "flatten_1 (Flatten)          (None, 1024)              0         \n",
            "_________________________________________________________________\n",
            "dense_2 (Dense)              (None, 128)               131200    \n",
            "_________________________________________________________________\n",
            "batch_normalization_13 (Batc (None, 128)               512       \n",
            "_________________________________________________________________\n",
            "dropout_5 (Dropout)          (None, 128)               0         \n",
            "_________________________________________________________________\n",
            "dense_3 (Dense)              (None, 10)                1290      \n",
            "=================================================================\n",
            "Total params: 326,426\n",
            "Trainable params: 326,002\n",
            "Non-trainable params: 424\n",
            "_________________________________________________________________\n",
            "Train on 84000 samples, validate on 18000 samples\n",
            "Epoch 1/30\n",
            "84000/84000 - 18s - loss: 0.2585 - accuracy: 0.9209 - val_loss: 0.0403 - val_accuracy: 0.9865\n",
            "Epoch 2/30\n",
            "84000/84000 - 16s - loss: 0.0850 - accuracy: 0.9744 - val_loss: 0.0298 - val_accuracy: 0.9903\n",
            "Epoch 3/30\n",
            "84000/84000 - 16s - loss: 0.0635 - accuracy: 0.9809 - val_loss: 0.0294 - val_accuracy: 0.9912\n",
            "Epoch 4/30\n",
            "84000/84000 - 16s - loss: 0.0509 - accuracy: 0.9846 - val_loss: 0.0333 - val_accuracy: 0.9891\n",
            "Epoch 5/30\n",
            "84000/84000 - 17s - loss: 0.0402 - accuracy: 0.9877 - val_loss: 0.0302 - val_accuracy: 0.9917\n",
            "Epoch 6/30\n",
            "84000/84000 - 16s - loss: 0.0354 - accuracy: 0.9892 - val_loss: 0.0257 - val_accuracy: 0.9926\n",
            "Epoch 7/30\n",
            "84000/84000 - 16s - loss: 0.0325 - accuracy: 0.9905 - val_loss: 0.0284 - val_accuracy: 0.9925\n",
            "Epoch 8/30\n",
            "84000/84000 - 17s - loss: 0.0288 - accuracy: 0.9913 - val_loss: 0.0234 - val_accuracy: 0.9937\n",
            "Epoch 9/30\n",
            "84000/84000 - 17s - loss: 0.0263 - accuracy: 0.9920 - val_loss: 0.0255 - val_accuracy: 0.9933\n",
            "Epoch 10/30\n",
            "84000/84000 - 17s - loss: 0.0230 - accuracy: 0.9927 - val_loss: 0.0193 - val_accuracy: 0.9948\n",
            "Epoch 11/30\n",
            "84000/84000 - 17s - loss: 0.0211 - accuracy: 0.9937 - val_loss: 0.0199 - val_accuracy: 0.9951\n",
            "Epoch 12/30\n",
            "84000/84000 - 17s - loss: 0.0202 - accuracy: 0.9938 - val_loss: 0.0252 - val_accuracy: 0.9942\n",
            "Epoch 13/30\n",
            "84000/84000 - 17s - loss: 0.0186 - accuracy: 0.9945 - val_loss: 0.0235 - val_accuracy: 0.9942\n",
            "Epoch 14/30\n",
            "84000/84000 - 16s - loss: 0.0176 - accuracy: 0.9942 - val_loss: 0.0178 - val_accuracy: 0.9953\n",
            "Epoch 15/30\n",
            "84000/84000 - 16s - loss: 0.0163 - accuracy: 0.9952 - val_loss: 0.0189 - val_accuracy: 0.9952\n",
            "Epoch 16/30\n",
            "84000/84000 - 16s - loss: 0.0154 - accuracy: 0.9952 - val_loss: 0.0257 - val_accuracy: 0.9933\n",
            "Epoch 17/30\n",
            "84000/84000 - 16s - loss: 0.0142 - accuracy: 0.9957 - val_loss: 0.0269 - val_accuracy: 0.9933\n",
            "Epoch 18/30\n",
            "84000/84000 - 17s - loss: 0.0127 - accuracy: 0.9960 - val_loss: 0.0225 - val_accuracy: 0.9947\n",
            "Epoch 19/30\n",
            "84000/84000 - 16s - loss: 0.0134 - accuracy: 0.9956 - val_loss: 0.0228 - val_accuracy: 0.9948\n",
            "Epoch 20/30\n",
            "84000/84000 - 16s - loss: 0.0121 - accuracy: 0.9963 - val_loss: 0.0242 - val_accuracy: 0.9948\n",
            "Epoch 21/30\n",
            "84000/84000 - 16s - loss: 0.0115 - accuracy: 0.9964 - val_loss: 0.0213 - val_accuracy: 0.9956\n",
            "Epoch 22/30\n",
            "84000/84000 - 16s - loss: 0.0103 - accuracy: 0.9967 - val_loss: 0.0191 - val_accuracy: 0.9960\n",
            "Epoch 23/30\n",
            "84000/84000 - 16s - loss: 0.0105 - accuracy: 0.9967 - val_loss: 0.0221 - val_accuracy: 0.9946\n",
            "Epoch 24/30\n",
            "84000/84000 - 17s - loss: 0.0099 - accuracy: 0.9967 - val_loss: 0.0219 - val_accuracy: 0.9951\n",
            "Epoch 25/30\n",
            "84000/84000 - 16s - loss: 0.0105 - accuracy: 0.9969 - val_loss: 0.0188 - val_accuracy: 0.9953\n",
            "Epoch 26/30\n",
            "84000/84000 - 16s - loss: 0.0103 - accuracy: 0.9968 - val_loss: 0.0219 - val_accuracy: 0.9951\n",
            "Epoch 27/30\n",
            "84000/84000 - 16s - loss: 0.0078 - accuracy: 0.9974 - val_loss: 0.0253 - val_accuracy: 0.9948\n",
            "Epoch 28/30\n",
            "84000/84000 - 16s - loss: 0.0093 - accuracy: 0.9969 - val_loss: 0.0212 - val_accuracy: 0.9959\n",
            "Epoch 29/30\n",
            "84000/84000 - 17s - loss: 0.0083 - accuracy: 0.9973 - val_loss: 0.0238 - val_accuracy: 0.9952\n",
            "Epoch 30/30\n",
            "84000/84000 - 16s - loss: 0.0080 - accuracy: 0.9975 - val_loss: 0.0247 - val_accuracy: 0.9947\n"
          ],
          "name": "stdout"
        }
      ]
    },
    {
      "cell_type": "code",
      "metadata": {
        "id": "--VOcFksOdzE",
        "colab_type": "code",
        "colab": {
          "base_uri": "https://localhost:8080/",
          "height": 52
        },
        "outputId": "0c4cbada-42e5-4aee-ff74-24c9a2e68ec5"
      },
      "source": [
        "# Final eval\n",
        "X_test1 = X_test.reshape(X_test.shape[0],1,28,28).astype('float64')\n",
        "y_test1 = to_categorical(y_test)\n",
        "\n",
        "scores = model.evaluate(X_test1, y_test1,verbose=1)\n",
        "print(\"CNN error: %.2f%%\" % (100 - scores[1]*100))"
      ],
      "execution_count": 14,
      "outputs": [
        {
          "output_type": "stream",
          "text": [
            "10000/10000 [==============================] - 1s 134us/sample - loss: 4.1309 - accuracy: 0.9668\n",
            "CNN error: 3.32%\n"
          ],
          "name": "stdout"
        }
      ]
    },
    {
      "cell_type": "code",
      "metadata": {
        "id": "JY14bPvmOefp",
        "colab_type": "code",
        "colab": {
          "base_uri": "https://localhost:8080/",
          "height": 34
        },
        "outputId": "f589ad69-e686-48b3-e111-042d92a557bf"
      },
      "source": [
        "scores"
      ],
      "execution_count": 15,
      "outputs": [
        {
          "output_type": "execute_result",
          "data": {
            "text/plain": [
              "[4.130909644347374, 0.9668]"
            ]
          },
          "metadata": {
            "tags": []
          },
          "execution_count": 15
        }
      ]
    },
    {
      "cell_type": "code",
      "metadata": {
        "id": "sW5i8BjmUjgH",
        "colab_type": "code",
        "colab": {}
      },
      "source": [
        ""
      ],
      "execution_count": 0,
      "outputs": []
    }
  ]
}